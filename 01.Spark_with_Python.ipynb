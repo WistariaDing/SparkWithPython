{
 "cells": [
  {
   "cell_type": "markdown",
   "metadata": {},
   "source": [
    "# Brief Introduction about Spark in Python also, Spark Machine Learning tools\n",
    "In this notebook, we will train two classifiers to predict survivors. We will use this classic machine learning problem as a brief introduction to using Spark local mode in a notebook"
   ]
  },
  {
   "cell_type": "code",
   "execution_count": 1,
   "metadata": {
    "collapsed": true
   },
   "outputs": [],
   "source": [
    "import pyspark\n",
    "from pyspark.mllib.regression import LabeledPoint\n",
    "from pyspark.mllib.classification import LogisticRegressionWithLBFGS\n",
    "from pyspark.mllib.tree import DecisionTree"
   ]
  },
  {
   "cell_type": "code",
   "execution_count": 2,
   "metadata": {
    "collapsed": true
   },
   "outputs": [],
   "source": [
    "sc = pyspark.SparkContext()"
   ]
  },
  {
   "cell_type": "markdown",
   "metadata": {},
   "source": [
    "## Sample the data\n",
    "The result is a RDD,not the the content of the file. This is a Spark transformation.\n",
    "We query RDD for the number of lines in the file. The call here causes the file to be read and the result computed. This is a Spark action"
   ]
  },
  {
   "cell_type": "code",
   "execution_count": 3,
   "metadata": {},
   "outputs": [
    {
     "data": {
      "text/plain": [
       "1317"
      ]
     },
     "execution_count": 3,
     "metadata": {},
     "output_type": "execute_result"
    }
   ],
   "source": [
    "raw_rdd = sc.textFile(\"data/COUNT/titanic.csv\")\n",
    "raw_rdd.count()"
   ]
  },
  {
   "cell_type": "markdown",
   "metadata": {},
   "source": [
    "Query for the first five rows of the RDD. Even though the data is small, we shouldn't get into the habit of pulling the entire dataset into the notebook. Many datasets that we might want to work with using Spark with be much too large to fit in memory of a single machine"
   ]
  },
  {
   "cell_type": "code",
   "execution_count": 4,
   "metadata": {},
   "outputs": [
    {
     "data": {
      "text/plain": [
       "['\"\",\"class\",\"age\",\"sex\",\"survived\"',\n",
       " '\"1\",\"1st class\",\"adults\",\"man\",\"yes\"',\n",
       " '\"2\",\"1st class\",\"adults\",\"man\",\"yes\"',\n",
       " '\"3\",\"1st class\",\"adults\",\"man\",\"yes\"',\n",
       " '\"4\",\"1st class\",\"adults\",\"man\",\"yes\"']"
      ]
     },
     "execution_count": 4,
     "metadata": {},
     "output_type": "execute_result"
    }
   ],
   "source": [
    "raw_rdd.take(5)"
   ]
  },
  {
   "cell_type": "markdown",
   "metadata": {},
   "source": [
    "We see a header row followed by a set of data rows. We filter out the header to define a new RDD containing only the data rows."
   ]
  },
  {
   "cell_type": "code",
   "execution_count": 5,
   "metadata": {
    "collapsed": true
   },
   "outputs": [],
   "source": [
    "header = raw_rdd.first()\n",
    "data_rdd = raw_rdd.filter(lambda line: line != header)"
   ]
  },
  {
   "cell_type": "code",
   "execution_count": 6,
   "metadata": {},
   "outputs": [
    {
     "data": {
      "text/plain": [
       "['\"159\",\"1st class\",\"adults\",\"man\",\"no\"',\n",
       " '\"256\",\"1st class\",\"adults\",\"women\",\"yes\"',\n",
       " '\"1204\",\"3rd class\",\"adults\",\"women\",\"no\"',\n",
       " '\"758\",\"3rd class\",\"adults\",\"man\",\"no\"',\n",
       " '\"730\",\"3rd class\",\"adults\",\"man\",\"no\"']"
      ]
     },
     "execution_count": 6,
     "metadata": {},
     "output_type": "execute_result"
    }
   ],
   "source": [
    "data_rdd.takeSample(False, 5,0)"
   ]
  },
  {
   "cell_type": "markdown",
   "metadata": {},
   "source": [
    "We see that the five value in every row is a passenger number. The next three values are the passenger attributes we might use to predict passenger survival. The final value is the survival ground truth."
   ]
  },
  {
   "cell_type": "markdown",
   "metadata": {},
   "source": [
    "## Create labeled points\n",
    "Now we define a function to turn the passenger attributions into structured LabeledPoint objects."
   ]
  },
  {
   "cell_type": "code",
   "execution_count": 7,
   "metadata": {
    "collapsed": true
   },
   "outputs": [],
   "source": [
    "def raw_to_labeled_point(line):\n",
    "    \"\"\"\n",
    "    Builds a LabelPoint consisting of:\n",
    "    \n",
    "    survival (truth): 0=no, 1=yes\n",
    "    ticked class: 0=1st class, 1=2nd class, 2=3rd class\n",
    "    age group: 0=child, 1=adults\n",
    "    gender: 0=man, 1=woman\n",
    "    \"\"\"\n",
    "    passenger_id, kclass, age, sex, survived = [segs.strip('\"') for segs in line.split(',')]\n",
    "    kclass = int(kclass[0]) -1\n",
    "    if (age not in ['adults','child'] or \n",
    "        sex not in ['man','women'] or \n",
    "        survived not in ['yes','no']):\n",
    "        raise RuntimeError('unknown value')\n",
    "    features = [\n",
    "        kclass,(1 if age == 'adults' else 0),(1 if sex == 'women' else 0)]\n",
    "    return LabeledPoint(1 if survived == 'yes' else 0, features)\n"
   ]
  },
  {
   "cell_type": "markdown",
   "metadata": {},
   "source": [
    "Apply this funtinon to all rows"
   ]
  },
  {
   "cell_type": "code",
   "execution_count": 8,
   "metadata": {},
   "outputs": [
    {
     "data": {
      "text/plain": [
       "[LabeledPoint(0.0, [0.0,1.0,0.0]),\n",
       " LabeledPoint(1.0, [0.0,1.0,1.0]),\n",
       " LabeledPoint(0.0, [2.0,1.0,1.0]),\n",
       " LabeledPoint(0.0, [2.0,1.0,0.0]),\n",
       " LabeledPoint(0.0, [2.0,1.0,0.0])]"
      ]
     },
     "execution_count": 8,
     "metadata": {},
     "output_type": "execute_result"
    }
   ],
   "source": [
    "labeled_points_rdd = data_rdd.map(raw_to_labeled_point)\n",
    "labeled_points_rdd.takeSample(False,5,0)"
   ]
  },
  {
   "cell_type": "markdown",
   "metadata": {},
   "source": [
    "## Split for training and test\n",
    "We split the transformed data into a training(70%) and test set(30%), and print the total number of items in each segment."
   ]
  },
  {
   "cell_type": "code",
   "execution_count": 9,
   "metadata": {
    "collapsed": true
   },
   "outputs": [],
   "source": [
    "training_rdd, test_rdd = labeled_points_rdd.randomSplit([0.7,0.3],seed=0)\n",
    "training_count=training_rdd.count()\n",
    "test_count = test_rdd.count()"
   ]
  },
  {
   "cell_type": "code",
   "execution_count": 10,
   "metadata": {},
   "outputs": [
    {
     "data": {
      "text/plain": [
       "(914, 402)"
      ]
     },
     "execution_count": 10,
     "metadata": {},
     "output_type": "execute_result"
    }
   ],
   "source": [
    "training_count, test_count"
   ]
  },
  {
   "cell_type": "markdown",
   "metadata": {},
   "source": [
    "## Train and test a decision tree classifier\n",
    "Now we train a Decision Tree model. We specify that we're training a boolean classifier (i.e., there are two outcomes). We also specify that all of our features are categorical and the number of possible categories for each."
   ]
  },
  {
   "cell_type": "code",
   "execution_count": 11,
   "metadata": {
    "collapsed": true
   },
   "outputs": [],
   "source": [
    "model = DecisionTree.trainClassifier(training_rdd, numClasses=2,\n",
    "                                    categoricalFeaturesInfo={0:3,1:2,2:2})"
   ]
  },
  {
   "cell_type": "markdown",
   "metadata": {},
   "source": [
    "We now apply the rained model to the feature values in the test set to get the list of predicted outcomines."
   ]
  },
  {
   "cell_type": "code",
   "execution_count": 12,
   "metadata": {
    "collapsed": true
   },
   "outputs": [],
   "source": [
    "predictions_rdd = model.predict(test_rdd.map(lambda x: x.features))"
   ]
  },
  {
   "cell_type": "markdown",
   "metadata": {},
   "source": [
    "We bundle our predictions with the ground truth outcome for each passenger in the test set."
   ]
  },
  {
   "cell_type": "code",
   "execution_count": 13,
   "metadata": {
    "collapsed": true
   },
   "outputs": [],
   "source": [
    "truth_and_predictions_rdd = test_rdd.map(lambda lp:lp.label).zip(predictions_rdd)"
   ]
  },
  {
   "cell_type": "code",
   "execution_count": 14,
   "metadata": {
    "scrolled": false
   },
   "outputs": [
    {
     "name": "stdout",
     "output_type": "stream",
     "text": [
      "Accuracy=  0.7985074626865671\n",
      "DecisionTreeModel classifier of depth 4 with 21 nodes\n",
      "  If (feature 2 in {0.0})\n",
      "   If (feature 1 in {0.0})\n",
      "    If (feature 0 in {0.0,1.0})\n",
      "     Predict: 1.0\n",
      "    Else (feature 0 not in {0.0,1.0})\n",
      "     Predict: 0.0\n",
      "   Else (feature 1 not in {0.0})\n",
      "    If (feature 0 in {1.0})\n",
      "     Predict: 0.0\n",
      "    Else (feature 0 not in {1.0})\n",
      "     If (feature 0 in {0.0})\n",
      "      Predict: 0.0\n",
      "     Else (feature 0 not in {0.0})\n",
      "      Predict: 0.0\n",
      "  Else (feature 2 not in {0.0})\n",
      "   If (feature 0 in {2.0})\n",
      "    If (feature 1 in {0.0})\n",
      "     Predict: 0.0\n",
      "    Else (feature 1 not in {0.0})\n",
      "     Predict: 0.0\n",
      "   Else (feature 0 not in {2.0})\n",
      "    If (feature 0 in {1.0})\n",
      "     If (feature 1 in {0.0})\n",
      "      Predict: 1.0\n",
      "     Else (feature 1 not in {0.0})\n",
      "      Predict: 1.0\n",
      "    Else (feature 0 not in {1.0})\n",
      "     If (feature 1 in {0.0})\n",
      "      Predict: 1.0\n",
      "     Else (feature 1 not in {0.0})\n",
      "      Predict: 1.0\n",
      "\n"
     ]
    }
   ],
   "source": [
    "accuracy = truth_and_predictions_rdd.filter(lambda v_p:v_p[0]==v_p[1]).count()/float(test_count)\n",
    "print('Accuracy= ', accuracy)\n",
    "print(model.toDebugString())"
   ]
  },
  {
   "cell_type": "markdown",
   "metadata": {},
   "source": [
    "Now use this well trained model to predict if a passenger with the feature of [1,0,0] which means (2nd class, adults, women) can survive or not."
   ]
  },
  {
   "cell_type": "code",
   "execution_count": 15,
   "metadata": {},
   "outputs": [
    {
     "name": "stdout",
     "output_type": "stream",
     "text": [
      "yes\n"
     ]
    }
   ],
   "source": [
    "prediction = model.predict([1,0,0])\n",
    "print('yes' if prediction==1 else 'no')"
   ]
  },
  {
   "cell_type": "markdown",
   "metadata": {},
   "source": [
    "## Train and test a logistic regression classifier\n",
    "For a simple comparison, we also train and test a LogisticRegressionWithSGD model.\n",
    "> Note: LogisticRegressionWithSGD is deprecated in 2.0.0."
   ]
  },
  {
   "cell_type": "code",
   "execution_count": 16,
   "metadata": {},
   "outputs": [],
   "source": [
    "model2 = LogisticRegressionWithLBFGS.train(training_rdd)"
   ]
  },
  {
   "cell_type": "code",
   "execution_count": 17,
   "metadata": {
    "collapsed": true
   },
   "outputs": [],
   "source": [
    "predictions2_rdd = model2.predict(test_rdd.map(lambda x:x.features))"
   ]
  },
  {
   "cell_type": "code",
   "execution_count": 18,
   "metadata": {
    "collapsed": true
   },
   "outputs": [],
   "source": [
    "labels_and_predictions2_rdd = test_rdd.map(lambda lp:lp.label).zip(predictions2_rdd)"
   ]
  },
  {
   "cell_type": "code",
   "execution_count": 19,
   "metadata": {},
   "outputs": [
    {
     "name": "stdout",
     "output_type": "stream",
     "text": [
      "Accuracy:  0.7835820895522388\n"
     ]
    }
   ],
   "source": [
    "accuracy = labels_and_predictions2_rdd.filter(lambda v_p:v_p[0]==v_p[1]).count()/float(test_count)\n",
    "print('Accuracy: ', accuracy)"
   ]
  },
  {
   "cell_type": "markdown",
   "metadata": {},
   "source": [
    "These two classifiers show similar accuracy. More information about the passengers cound definitely help improve this metric.\n",
    "\n",
    "> In this case, Decision Tree model perfoms better than Logistic Regression model with LBFGS optimization algorithm "
   ]
  },
  {
   "cell_type": "code",
   "execution_count": null,
   "metadata": {
    "collapsed": true
   },
   "outputs": [],
   "source": []
  }
 ],
 "metadata": {
  "kernelspec": {
   "display_name": "Python 3",
   "language": "python",
   "name": "python3"
  },
  "language_info": {
   "codemirror_mode": {
    "name": "ipython",
    "version": 3
   },
   "file_extension": ".py",
   "mimetype": "text/x-python",
   "name": "python",
   "nbconvert_exporter": "python",
   "pygments_lexer": "ipython3",
   "version": "3.6.1"
  }
 },
 "nbformat": 4,
 "nbformat_minor": 2
}
