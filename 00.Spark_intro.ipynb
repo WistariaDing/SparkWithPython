{
 "cells": [
  {
   "cell_type": "markdown",
   "metadata": {},
   "source": [
    "# This one is to test if spark functionality works well"
   ]
  },
  {
   "cell_type": "markdown",
   "metadata": {},
   "source": [
    "##  (1) Test Spark functionality"
   ]
  },
  {
   "cell_type": "code",
   "execution_count": 1,
   "metadata": {
    "collapsed": true
   },
   "outputs": [],
   "source": [
    "import pyspark\n",
    "from pyspark.mllib.regression import LabeledPoint\n",
    "from pyspark.mllib.classification import LogisticRegressionWithSGD\n",
    "from pyspark.mllib.tree import DecisionTree"
   ]
  },
  {
   "cell_type": "markdown",
   "metadata": {},
   "source": [
    "SparkContext is the main object in the Spark API.\n",
    "Here is to test if the Spark jobs work properly"
   ]
  },
  {
   "cell_type": "code",
   "execution_count": 2,
   "metadata": {
    "collapsed": true
   },
   "outputs": [],
   "source": [
    "sc = pyspark.SparkContext()"
   ]
  },
  {
   "cell_type": "code",
   "execution_count": 3,
   "metadata": {
    "scrolled": true
   },
   "outputs": [
    {
     "name": "stdout",
     "output_type": "stream",
     "text": [
      "largeRange: PythonRDD[3] at RDD at PythonRDD.scala:48\n",
      "reduceTest: 24995000\n",
      "filterRduceTest: 3573570\n"
     ]
    }
   ],
   "source": [
    "# Check that Spark is working\n",
    "largeRange = sc.parallelize(range(0,10000,2),5)\n",
    "reduceTest = largeRange.reduce(lambda a,b: a+b)\n",
    "filterReduceTest = largeRange.filter(lambda x:x%7 ==0).sum()\n",
    "print('largeRange:',largeRange)\n",
    "print('reduceTest:',reduceTest)\n",
    "print('filterRduceTest:',filterReduceTest)"
   ]
  },
  {
   "cell_type": "code",
   "execution_count": 4,
   "metadata": {},
   "outputs": [
    {
     "name": "stdout",
     "output_type": "stream",
     "text": [
      "60000\n"
     ]
    }
   ],
   "source": [
    "# check loading data with sc.textFile\n",
    "import os.path\n",
    "baseDir = os.path.join('data\\MNIST')\n",
    "fileName = baseDir + '\\Train-28x28_cntk_text.txt'\n",
    "\n",
    "rawData = sc.textFile(fileName)\n",
    "TrainNumber = rawData.count()\n",
    "print(TrainNumber)\n",
    "\n",
    "assert TrainNumber == 60000"
   ]
  },
  {
   "cell_type": "markdown",
   "metadata": {},
   "source": [
    "## (2) Check class testing library"
   ]
  },
  {
   "cell_type": "markdown",
   "metadata": {},
   "source": [
    "### (2a) Compare with hash\n",
    "\n",
    "#### NOTE: \n",
    "####        1). INSTALL test_helper. After install test_helper, find the local file of test_help in /../site-packages/.., copy all the content in test_helper.py to __init__.py. 2).Change the print xxxxx to print(xxxx) in the two files if you are running python 3\n",
    "\n",
    "\n",
    "Test.assertEqualsHashed()： TypeError: Unicode-objects must be encoded before hashing"
   ]
  },
  {
   "cell_type": "code",
   "execution_count": 5,
   "metadata": {},
   "outputs": [
    {
     "name": "stdout",
     "output_type": "stream",
     "text": [
      "1 test passed.\n"
     ]
    }
   ],
   "source": [
    "# Test Compare with hash\n",
    "# Check our testing library/package\n",
    "# This should print '1 test passed.' on two lines\n",
    "from test_helper import Test\n",
    "twelve = 12\n",
    "Test.assertEquals(twelve, 12, 'twelve should equal 12')\n",
    "#Test.assertEqualsHashed(twelve,'7b52009b64fd0a2a49e6d8a939753077792b0554','twelve, once hashed, should equal the hashed value of 12' )\n"
   ]
  },
  {
   "cell_type": "markdown",
   "metadata": {
    "collapsed": true
   },
   "source": [
    "### (2b) Compare lists"
   ]
  },
  {
   "cell_type": "code",
   "execution_count": 6,
   "metadata": {},
   "outputs": [
    {
     "name": "stdout",
     "output_type": "stream",
     "text": [
      "1 test passed.\n"
     ]
    }
   ],
   "source": [
    "# Test Compare lists \n",
    "# This should print '1 test paseed.'\n",
    "unsortedList = [(5,'b'),(5,'a'),(4,'c'),(3,'a')]\n",
    "Test.assertEquals(sorted(unsortedList),[(3,'a'),(4,'c'),(5,'a'),(5,'b')],\n",
    "                 \"unsortedList doesn't sort properly\")"
   ]
  },
  {
   "cell_type": "markdown",
   "metadata": {},
   "source": [
    "## (3) Check plotting"
   ]
  },
  {
   "cell_type": "markdown",
   "metadata": {},
   "source": [
    "### (3a) First plot\n",
    "\n",
    "After executing the code cell below, you should see a plot with 50 blue circles. The circles should start at the bottom left and end at the top right"
   ]
  },
  {
   "cell_type": "code",
   "execution_count": 7,
   "metadata": {
    "scrolled": false
   },
   "outputs": [
    {
     "data": {
      "text/plain": [
       "(<matplotlib.text.Text at 0x1b9b2a7f8d0>,\n",
       " <matplotlib.text.Text at 0x1b9b2ad8f98>)"
      ]
     },
     "execution_count": 7,
     "metadata": {},
     "output_type": "execute_result"
    },
    {
     "data": {
      "image/png": "[encoded data removed]",
      "text/plain": [
       "<matplotlib.figure.Figure at 0x1b9b1f954e0>"
      ]
     },
     "metadata": {},
     "output_type": "display_data"
    }
   ],
   "source": [
    "# Check matplotlib plotting\n",
    "%matplotlib inline\n",
    "import matplotlib.pyplot as plt\n",
    "import matplotlib.cm as cm\n",
    "from math import log\n",
    "\n",
    "# function for generating plot layout\n",
    "def preparePlot(xticks, yticks, figsize=(10.5,6), hideLabels=False, gridColor='#999999', gridWidth=1.0):\n",
    "    plt.close()\n",
    "    fig, ax = plt.subplots(figsize=figsize, facecolor='white', edgecolor='white')\n",
    "    ax.axes.tick_params(labelcolor='#999999',labelsize='10')\n",
    "    for axis, ticks in [(ax.get_xaxis(), xticks),(ax.get_yaxis(),yticks)]:\n",
    "        axis.set_ticks_position('none')\n",
    "        axis.set_ticks(ticks)\n",
    "        axis.label.set_color('#999999')\n",
    "        if hideLabels: axis.set_ticklabels([])\n",
    "    plt.grid(color=gridColor, lineWidth=gridWidth, linestyle='-')\n",
    "    map(lambda position: ax.spines[position].set_visible(False),['bottom','top','left','right'])\n",
    "    return fig, ax\n",
    "\n",
    "# generate layout and plot data\n",
    "x = range(1,50)\n",
    "y = [log(x1 ** 2) for x1 in x]\n",
    "fig, ax = preparePlot(range(5,60,10),range(0,12,1))\n",
    "plt.scatter(x,y,s=14**2, c='#d6ebf2', edgecolors='#8cbfd0',alpha=0.75)\n",
    "ax.set_xlabel(r'$range(1, 50)$'), ax.set_ylabel(r'$\\log_e(x^2)$')\n"
   ]
  },
  {
   "cell_type": "code",
   "execution_count": null,
   "metadata": {
    "collapsed": true
   },
   "outputs": [],
   "source": []
  }
 ],
 "metadata": {
  "kernelspec": {
   "display_name": "Python 3",
   "language": "python",
   "name": "python3"
  },
  "language_info": {
   "codemirror_mode": {
    "name": "ipython",
    "version": 3
   },
   "file_extension": ".py",
   "mimetype": "text/x-python",
   "name": "python",
   "nbconvert_exporter": "python",
   "pygments_lexer": "ipython3",
   "version": "3.6.1"
  }
 },
 "nbformat": 4,
 "nbformat_minor": 2
}
